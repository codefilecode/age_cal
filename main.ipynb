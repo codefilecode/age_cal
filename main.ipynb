{
 "cells": [
  {
   "cell_type": "markdown",
   "metadata": {},
   "source": [
    "# 만나이 계산기"
   ]
  },
  {
   "cell_type": "code",
   "execution_count": null,
   "metadata": {},
   "outputs": [],
   "source": [
    "while(1):\n",
    "    def knowage(i):\n",
    "        year = int(input(\"기준 년도를 적어주세요\"))\n",
    "\n",
    "        yearA = year - i # 생일전년도\n",
    "        yearB = year - i - 1 # 생일후년도\n",
    "        ageA = year - yearA # 생일전\n",
    "        ageB = year - yearB # 생일후\n",
    "        iyearA = year - i + 1 # 세는나이 연도 # 1번 라인\n",
    "        sumage = year - iyearA + 1\n",
    "\n",
    "        print(\"%d년을 기준으로 만 나이는 다음과 같습니다.\" % year)\n",
    "        print(\"생일전 생일년도: %d년생\" % yearA)\n",
    "        print(\"생일후 생일년도: %d년생\" % yearB)\n",
    "        print(\"생일전 나이: %d세\" % ageA)\n",
    "        print(\"생일후 나이: %d세\" % ageB)\n",
    "        print(\"%d년을 기준으로 세는 나이는 다음과 같습니다.\" % year)\n",
    "        print(\"생년년도: %d년생\" % iyearA)\n",
    "        print(\"나이: %d세\" % sumage)\n",
    "\n",
    "    def knowageyear(i): # 2번 라인\n",
    "        year = int(input(\"기준 년도를 적어주세요\"))\n",
    "        yearb = int(input(\"태어난 년도를 적어주세요\"))\n",
    "\n",
    "        ageA = year - yearb - 1\n",
    "        ageB = year - yearb\n",
    "        iyearA = yearb + i - 1\n",
    "        sumage = iyearA - yearb + 2\n",
    "        print(\"%d년생을 기준으로 만 나이는 다음과 같습니다.\" % year)\n",
    "        print(\"생일전 생년월일: %d세\" % ageA)\n",
    "        print(\"생일후 생년월일: %d세\" % ageB)\n",
    "        print(\"%d년생 기준으로 세는 나이는 다음과 같습니다.\" % year)\n",
    "        print(\"나이: %d세\" % sumage)\n",
    "\n",
    "    # print(\" === 만나이 계산기 === \") \n",
    "    age = input(\"나이를 입력해주세요 : \")\n",
    "    age = int(age)\n",
    "    j = input(\"다음중 어느것에 해당하십니까? \\n 1 : 나이만 알고 있음 \\n 2 : 나이와, 년도만 알고 있음\")\n",
    "    j = int(j)\n",
    "    if(j == 1):\n",
    "        knowage(age)\n",
    "    elif(j == 2):\n",
    "        knowageyear(age)"
   ]
  }
 ],
 "metadata": {
  "kernelspec": {
   "display_name": "Python 3.10.7 64-bit",
   "language": "python",
   "name": "python3"
  },
  "language_info": {
   "codemirror_mode": {
    "name": "ipython",
    "version": 3
   },
   "file_extension": ".py",
   "mimetype": "text/x-python",
   "name": "python",
   "nbconvert_exporter": "python",
   "pygments_lexer": "ipython3",
   "version": "3.10.7"
  },
  "orig_nbformat": 4,
  "vscode": {
   "interpreter": {
    "hash": "09d3ffee16a3ed504b4c583b78671d9b3d5818ddc223735a7b0c2db318de6b77"
   }
  }
 },
 "nbformat": 4,
 "nbformat_minor": 2
}
