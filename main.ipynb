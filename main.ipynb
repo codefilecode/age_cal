{
 "cells": [
  {
   "cell_type": "code",
   "execution_count": 2,
   "metadata": {},
   "outputs": [
    {
     "name": "stdout",
     "output_type": "stream",
     "text": [
      " === 만나이 계산기 === \n",
      "기준 년도를 적어주세요\n"
     ]
    },
    {
     "ename": "ValueError",
     "evalue": "invalid literal for int() with base 10: ''",
     "output_type": "error",
     "traceback": [
      "\u001b[1;31m---------------------------------------------------------------------------\u001b[0m",
      "\u001b[1;31mValueError\u001b[0m                                Traceback (most recent call last)",
      "Cell \u001b[1;32mIn [2], line 44\u001b[0m\n\u001b[0;32m     41\u001b[0m j \u001b[38;5;241m=\u001b[39m \u001b[38;5;28mint\u001b[39m(\u001b[38;5;28minput\u001b[39m(\u001b[38;5;124m\"\u001b[39m\u001b[38;5;124m다음중 어느것에 해당하십니까? \u001b[39m\u001b[38;5;130;01m\\n\u001b[39;00m\u001b[38;5;124m 1 : 나이만 알고 있음 \u001b[39m\u001b[38;5;130;01m\\n\u001b[39;00m\u001b[38;5;124m 2 : 나이와, 년도만 알고 있음\u001b[39m\u001b[38;5;124m\"\u001b[39m))\n\u001b[0;32m     43\u001b[0m \u001b[38;5;28;01mif\u001b[39;00m(j \u001b[38;5;241m==\u001b[39m \u001b[38;5;241m1\u001b[39m):\n\u001b[1;32m---> 44\u001b[0m     knowage(age)\n\u001b[0;32m     45\u001b[0m \u001b[38;5;28;01melif\u001b[39;00m(j \u001b[38;5;241m==\u001b[39m \u001b[38;5;241m2\u001b[39m):\n\u001b[0;32m     46\u001b[0m     knowageyear(age)\n",
      "Cell \u001b[1;32mIn [2], line 4\u001b[0m, in \u001b[0;36mknowage\u001b[1;34m(i)\u001b[0m\n\u001b[0;32m      2\u001b[0m \u001b[38;5;28;01mdef\u001b[39;00m \u001b[38;5;21mknowage\u001b[39m(i):\n\u001b[0;32m      3\u001b[0m     \u001b[38;5;28mprint\u001b[39m(\u001b[38;5;124m\"\u001b[39m\u001b[38;5;124m기준 년도를 적어주세요\u001b[39m\u001b[38;5;124m\"\u001b[39m)\n\u001b[1;32m----> 4\u001b[0m     year \u001b[38;5;241m=\u001b[39m \u001b[38;5;28;43mint\u001b[39;49m\u001b[43m(\u001b[49m\u001b[38;5;28;43minput\u001b[39;49m\u001b[43m(\u001b[49m\u001b[43m)\u001b[49m\u001b[43m)\u001b[49m\n\u001b[0;32m      6\u001b[0m     yearA \u001b[38;5;241m=\u001b[39m year \u001b[38;5;241m-\u001b[39m i \u001b[38;5;66;03m# 생일전년도\u001b[39;00m\n\u001b[0;32m      7\u001b[0m     yearB \u001b[38;5;241m=\u001b[39m year \u001b[38;5;241m-\u001b[39m i \u001b[38;5;241m-\u001b[39m \u001b[38;5;241m1\u001b[39m \u001b[38;5;66;03m# 생일후년도\u001b[39;00m\n",
      "\u001b[1;31mValueError\u001b[0m: invalid literal for int() with base 10: ''"
     ]
    }
   ],
   "source": [
    "while(1):\n",
    "    def knowage(i):\n",
    "        print(\"기준 년도를 적어주세요\")\n",
    "        year = int(input())\n",
    "\n",
    "        yearA = year - i # 생일전년도\n",
    "        yearB = year - i - 1 # 생일후년도\n",
    "        ageA = year - yearA # 생일전\n",
    "        ageB = year - yearB # 생일후\n",
    "        iyearA = year - i + 1 # 세는나이 연도 # 1번 라인\n",
    "        sumage = year - iyearA + 1\n",
    "\n",
    "        print(\"%d년을 기준으로 만 나이는 다음과 같습니다.\" % year)\n",
    "        print(\"생일전 생일년도: %d년생\" % yearA)\n",
    "        print(\"생일후 생일년도: %d년생\" % yearB)\n",
    "        print(\"생일전 나이: %d세\" % ageA)\n",
    "        print(\"생일후 나이: %d세\" % ageB)\n",
    "        print(\"%d년을 기준으로 세는 나이는 다음과 같습니다.\" % year)\n",
    "        print(\"생년년도: %d년생\" % iyearA)\n",
    "        print(\"나이: %d세\" % sumage)\n",
    "\n",
    "    def knowageyear(i): # 2번 라인\n",
    "        print(\"기준 년도를 적어주세요\")\n",
    "        year = int(input())\n",
    "        print(\"태어난 년도를 적어주세요\")\n",
    "        yearb = int(input())\n",
    "\n",
    "        ageA = year - yearb - 1\n",
    "        ageB = year - yearb\n",
    "        iyearA = yearb + i - 1\n",
    "        sumage = iyearA - yearb + 1\n",
    "        print(\"%d년생을 기준으로 만 나이는 다음과 같습니다.\" % year)\n",
    "        print(\"생일전 생년월일: %d세\" % ageA)\n",
    "        print(\"생일후 생년월일: %d세\" % ageB)\n",
    "        print(\"%d년생 기준으로 세는 나이는 다음과 같습니다.\" % year)\n",
    "        print(\"나이: %d세\" % sumage)\n",
    "\n",
    "    print(\" === 만나이 계산기 === \")\n",
    "\n",
    "    age = int(input(\"나이를 입력해주세요 : \"))\n",
    "    j = int(input(\"다음중 어느것에 해당하십니까? \\n 1 : 나이만 알고 있음 \\n 2 : 나이와, 년도만 알고 있음\"))\n",
    "\n",
    "    if(j == 1):\n",
    "        knowage(age)\n",
    "    elif(j == 2):\n",
    "        knowageyear(age)"
   ]
  },
  {
   "cell_type": "markdown",
   "metadata": {},
   "source": [
    "# 만나이 계산기\n"
   ]
  },
  {
   "cell_type": "markdown",
   "metadata": {},
   "source": []
  }
 ],
 "metadata": {
  "kernelspec": {
   "display_name": "Python 3.10.7 64-bit",
   "language": "python",
   "name": "python3"
  },
  "language_info": {
   "codemirror_mode": {
    "name": "ipython",
    "version": 3
   },
   "file_extension": ".py",
   "mimetype": "text/x-python",
   "name": "python",
   "nbconvert_exporter": "python",
   "pygments_lexer": "ipython3",
   "version": "3.10.7"
  },
  "orig_nbformat": 4,
  "vscode": {
   "interpreter": {
    "hash": "09d3ffee16a3ed504b4c583b78671d9b3d5818ddc223735a7b0c2db318de6b77"
   }
  }
 },
 "nbformat": 4,
 "nbformat_minor": 2
}
